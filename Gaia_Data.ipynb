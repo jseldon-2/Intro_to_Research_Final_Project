{
 "cells": [
  {
   "cell_type": "code",
   "execution_count": 16,
   "id": "f2a9ccba-8f7e-483b-99dc-fab356c85e5e",
   "metadata": {},
   "outputs": [],
   "source": [
    "import numpy as np\n",
    "import matplotlib.pyplot as plt\n",
    "import pandas as pd\n",
    "import astropy.units as u\n",
    "from astropy.coordinates import SkyCoord\n",
    "from astropy.units import Quantity\n",
    "from astroquery.gaia import Gaia\n",
    "from astropy.table import Table"
   ]
  },
  {
   "cell_type": "code",
   "execution_count": 21,
   "id": "5b6aa6c0-29c6-4e42-9ff7-5328314eee9f",
   "metadata": {},
   "outputs": [],
   "source": [
    "# query = \"\"\"\n",
    "# SELECT g.source_id, g.ra, g.dec, parallax, parallax_error,\n",
    "#        pmra, pmra_error, pmdec, pmdec_error,\n",
    "#        phot_g_mean_mag, phot_g_mean_flux_over_error,\n",
    "#        phot_bp_mean_mag, phot_bp_mean_flux_over_error,\n",
    "#        phot_rp_mean_mag, phot_rp_mean_flux_over_error,\n",
    "#        phot_g_mean_mag + 5.0*log10(parallax/100.0) AS M_G, bp_rp,\n",
    "#        s.ra,s.dec, u_mag, u_mag_error, g_mag, g_mag_error, r_mag, r_mag_error, i_mag, i_mag_error, z_mag, z_mag_error, clean_flag,\n",
    "#        pan.ra,pan.dec,g_mean_psf_mag,g_mean_psf_mag_error,r_mean_psf_mag,r_mean_psf_mag_error,i_mean_psf_mag,i_mean_psf_mag_error,z_mean_psf_mag,z_mean_psf_mag_error,y_mean_psf_mag,y_mean_psf_mag_error,s.sdssdr9_oid\n",
    "\n",
    "# FROM   gaiadr3.gaia_source AS g, gaiadr1.sdssdr9_original_valid AS s, gaiadr2.sdssdr9_best_neighbour AS xs,\n",
    "#        gaiadr2.panstarrs1_original_valid AS pan, gaiadr3.panstarrs1_best_neighbour AS xpan\n",
    "# WHERE g.source_id = xs.source_id AND s.sdssdr9_oid = xs.sdssdr9_oid\n",
    "#   AND g.source_id = xpan.source_id AND pan.obj_id = xpan.original_ext_source_id\n",
    "#   AND parallax > 10.0 AND parallax_over_error > 10.0\n",
    "#   AND phot_bp_mean_flux_over_error > 10.0\n",
    "#   AND phot_rp_mean_flux_over_error > 10.0\n",
    "#   AND phot_g_mean_mag + 5.0*log10(parallax/100.0) > (3.333333*(phot_bp_mean_mag - phot_rp_mean_mag) + 8.333333)\n",
    "#   AND (astrometric_sigma5d_max < 1.5 OR (ruwe <= 1.1 AND ipd_gof_harmonic_amplitude < 1))\n",
    "#   AND ((phot_bp_n_obs >2 AND phot_rp_n_obs >2) OR phot_g_mean_mag < 19)\n",
    "#   AND ((astrometric_excess_noise_sig < 2 OR (astrometric_excess_noise_sig >= 2 AND astrometric_excess_noise < 1.5)) OR astrometric_params_solved < 32)\n",
    "# \"\"\""
   ]
  },
  {
   "cell_type": "code",
   "execution_count": 22,
   "id": "34c9a247-4c72-4295-a41b-9c84cbdc1ebe",
   "metadata": {},
   "outputs": [],
   "source": [
    "# query_data = Gaia.launch_job_async(query)\n",
    "# query_result = query_data.get_results()\n",
    "# gaia_data = query_result.to_pandas()\n",
    "# print(gaia_data)\n",
    "# sdssids = gaia_data['sdssdr9_oid']\n",
    "# objidstr = \",\".join(str(obj_id) for obj_id in sdssids)\n",
    "# print(objidstr)"
   ]
  },
  {
   "cell_type": "code",
   "execution_count": 23,
   "id": "bae0c044-8a54-4ab4-92bc-e762807c553e",
   "metadata": {},
   "outputs": [],
   "source": [
    "# gaia_data.to_csv('gaia_query.csv')"
   ]
  },
  {
   "cell_type": "code",
   "execution_count": 29,
   "id": "f3df0112-01f9-48ad-b9df-1fada66ea8dc",
   "metadata": {},
   "outputs": [],
   "source": [
    "gaia_data = pd.read_csv('gaia_query.csv')"
   ]
  },
  {
   "cell_type": "code",
   "execution_count": 36,
   "id": "083e465c-e11c-41a1-b432-d783a67c8543",
   "metadata": {},
   "outputs": [
    {
     "name": "stdout",
     "output_type": "stream",
     "text": [
      "<class 'pandas.core.frame.DataFrame'>\n",
      "RangeIndex: 17057 entries, 0 to 17056\n",
      "Data columns (total 7 columns):\n",
      " #   Column    Non-Null Count  Dtype  \n",
      "---  ------    --------------  -----  \n",
      " 0   wdid      17057 non-null  object \n",
      " 1   icrsra    17057 non-null  object \n",
      " 2   icrsdec   17057 non-null  object \n",
      " 3   spectype  15807 non-null  object \n",
      " 4   teff      15051 non-null  float64\n",
      " 5   logg      15024 non-null  float64\n",
      " 6   Dpc       17057 non-null  float64\n",
      "dtypes: float64(3), object(4)\n",
      "memory usage: 932.9+ KB\n"
     ]
    }
   ],
   "source": [
    "montreal_df = pd.read_csv('/home/jovyan/Final_Project/MWDD-export.csv')\n",
    "montreal_df.info()"
   ]
  },
  {
   "cell_type": "code",
   "execution_count": 33,
   "id": "b9b99632-4d9f-43c2-b632-b957f0c36a85",
   "metadata": {},
   "outputs": [],
   "source": [
    "gaia_ra_numpy = gaia_data['ra'].to_numpy()\n",
    "gaia_dec_numpy = gaia_data['dec'].to_numpy()"
   ]
  },
  {
   "cell_type": "code",
   "execution_count": 37,
   "id": "cfb82e82-f67d-4772-b72c-8beec7f09d9f",
   "metadata": {},
   "outputs": [],
   "source": [
    "montreal_ra_numpy = montreal_df['icrsra'].to_numpy()\n",
    "montreal_dec_numpy = montreal_df['icrsdec'].to_numpy()"
   ]
  },
  {
   "cell_type": "code",
   "execution_count": 56,
   "id": "2b2027a6-2c7f-492e-8fa4-676927458663",
   "metadata": {},
   "outputs": [],
   "source": [
    "coords = SkyCoord(ra=montreal_ra_numpy,dec=montreal_dec_numpy, unit=(u.hourangle,u.deg))"
   ]
  },
  {
   "cell_type": "code",
   "execution_count": 50,
   "id": "cbcb9cc2-703c-438a-8f92-d6ddce697c02",
   "metadata": {},
   "outputs": [],
   "source": [
    "coords = SkyCoord(ra=montreal_df['icrsra'].to_numpy(),\n",
    "dec=montreal_df['icrsdec'].to_numpy(), unit=(u.hourangle,u.deg))"
   ]
  },
  {
   "cell_type": "code",
   "execution_count": 58,
   "id": "132a0e0a-d7d9-41f6-b7c0-764fc75c23f6",
   "metadata": {},
   "outputs": [],
   "source": [
    "gaia_coords=SkyCoord(ra=gaia_data['ra'].to_numpy()*u.deg,dec=gaia_data['dec'].to_numpy()*u.deg)"
   ]
  },
  {
   "cell_type": "code",
   "execution_count": 59,
   "id": "619371bb-37d1-423d-b771-8636812dec47",
   "metadata": {},
   "outputs": [],
   "source": [
    "montreal_df['ra_deg'] = coords.ra.deg\n",
    "montreal_df['dec_deg']= coords.dec.deg"
   ]
  },
  {
   "cell_type": "code",
   "execution_count": 60,
   "id": "9a85c8be-8271-4245-b877-948c1617c163",
   "metadata": {},
   "outputs": [],
   "source": [
    "idx, sep2d,_ = coords.match_to_catalog_sky(gaia_coords)"
   ]
  },
  {
   "cell_type": "code",
   "execution_count": 61,
   "id": "87787e4c-d032-41af-a8f5-48aa66a87082",
   "metadata": {},
   "outputs": [],
   "source": [
    "max_separation = 1.0*u.arcsec\n",
    "matches_within_radius = sep2d < max_separation"
   ]
  },
  {
   "cell_type": "code",
   "execution_count": 62,
   "id": "67ab1e59-129b-405e-b9f3-006c94a27253",
   "metadata": {},
   "outputs": [],
   "source": [
    "matched_gaia = gaia_data.iloc[idx[matches_within_radius]].reset_index(drop=True)\n",
    "matched_montreal = montreal_df[matches_within_radius].reset_index(drop=True)"
   ]
  },
  {
   "cell_type": "code",
   "execution_count": null,
   "id": "f0dfd4df-f9c7-4ed3-a944-0c41c4a224ab",
   "metadata": {},
   "outputs": [],
   "source": []
  },
  {
   "cell_type": "code",
   "execution_count": null,
   "id": "105cb019-6f17-43cc-81e3-ec6ac99d9bea",
   "metadata": {},
   "outputs": [],
   "source": []
  },
  {
   "cell_type": "code",
   "execution_count": null,
   "id": "37e569b8-421f-4f33-bafb-6d2f83de6ee4",
   "metadata": {},
   "outputs": [],
   "source": []
  },
  {
   "cell_type": "code",
   "execution_count": null,
   "id": "07f3e248-0941-4d88-8c05-d190753a17c3",
   "metadata": {},
   "outputs": [],
   "source": []
  }
 ],
 "metadata": {
  "kernelspec": {
   "display_name": "Python 3 (ipykernel)",
   "language": "python",
   "name": "python3"
  },
  "language_info": {
   "codemirror_mode": {
    "name": "ipython",
    "version": 3
   },
   "file_extension": ".py",
   "mimetype": "text/x-python",
   "name": "python",
   "nbconvert_exporter": "python",
   "pygments_lexer": "ipython3",
   "version": "3.11.6"
  }
 },
 "nbformat": 4,
 "nbformat_minor": 5
}
